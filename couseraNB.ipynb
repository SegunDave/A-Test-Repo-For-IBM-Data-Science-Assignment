{
 "cells": [
  {
   "cell_type": "markdown",
   "metadata": {},
   "source": [
    "<h1>My Jupyter Notebook on IBM Watson Studio</h1>"
   ]
  },
  {
   "cell_type": "markdown",
   "metadata": {},
   "source": [
    "<b>Segun</b>\n",
    "\n",
    "Data scientist\n",
    "\n"
   ]
  },
  {
   "cell_type": "markdown",
   "metadata": {},
   "source": [
    "<i>I am interested in Data Science because I am very curious and I always like to make sense of plethora of data. </i>"
   ]
  },
  {
   "cell_type": "markdown",
   "metadata": {},
   "source": [
    "<h3> My code in line 5 is a function that is supposed to generate n amount of random numbers (predictions) in float, from a predefined percentage between 70% below or above the lower range and upper range. Please note, No replication and sorted from low to high </h3>"
   ]
  },
  {
   "cell_type": "code",
   "execution_count": 2,
   "metadata": {},
   "outputs": [
    {
     "name": "stdout",
     "output_type": "stream",
     "text": [
      "[15623.03, 16344.22, 16378.3, 16954.12, 17679.44]\n"
     ]
    }
   ],
   "source": [
    "import random\n",
    "#  function that generates 3 random numbers(floats) between lastHigh and lastLow, \n",
    "#  lastHigh => defined highest value from external source e.g API\n",
    "#  lastLow => defined lowest value from external source e.g API\n",
    "#  maxPredictions = 3\n",
    "\n",
    "def generateRandomValues(maxPredictions,lastLow,lastHigh):\n",
    "    delta = (lastHigh - lastLow) * 0.7\n",
    "\n",
    "    upperLimit = lastHigh + delta\n",
    "    lowerLimit = lastLow - delta\n",
    "    startCount = 0\n",
    "    random_numbers = set()\n",
    "    \n",
    "    while startCount < maxPredictions:\n",
    "        random_numbers.add(round(random.uniform(lowerLimit, upperLimit), 2))\n",
    "        startCount= startCount + 1\n",
    "    random_numbers = sorted(random_numbers)   \n",
    "    print(random_numbers)\n",
    "\n",
    "\n",
    "generateRandomValues(5,16000,17000)\n"
   ]
  },
  {
   "cell_type": "markdown",
   "metadata": {},
   "source": [
    "https://github.com/SegunDave\n",
    "\n",
    " <a href=\"https://github.com/SegunDave\">Segun' Github Link</a>\n",
    " \n",
    "1) Horizontal rule here below <hr></hr>\n",
    "\n",
    "    \n",
    "2) Hyperlinks to my Github and Linkin below: \n",
    "    \n",
    "<a href=\"https://github.com/SegunDave\">Segun' Github Link</a>\n",
    "<div>\n",
    "<a href=\"https://www.linkedin.com/in/segunoladipodata/\">Segun' LinkedIn Link</a>\n",
    "\n",
    "    \n",
    "3) Strikethrough example below\n",
    "    \n",
    "<div>\n",
    "<s>This a very quick example of strikethrough.</s>\n",
    "    \n",
    "4) Image of a robot.\n",
    "<div>\n",
    "<img src=\"https://www.pngrepo.com/png/22271/180/robot.png\" alt=\"Girl in a jacket\" width=\"100\" height=\"120\">\n",
    "    \n",
    "    \n",
    "    \n",
    "\n",
    "\n",
    "    \n",
    "   "
   ]
  }
 ],
 "metadata": {
  "kernelspec": {
   "display_name": "Python 3.9",
   "language": "python",
   "name": "python3"
  },
  "language_info": {
   "codemirror_mode": {
    "name": "ipython",
    "version": 3
   },
   "file_extension": ".py",
   "mimetype": "text/x-python",
   "name": "python",
   "nbconvert_exporter": "python",
   "pygments_lexer": "ipython3",
   "version": "3.9.13"
  }
 },
 "nbformat": 4,
 "nbformat_minor": 1
}
